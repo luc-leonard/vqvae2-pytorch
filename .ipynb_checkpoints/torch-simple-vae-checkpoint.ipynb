{
 "cells": [
  {
   "cell_type": "code",
   "execution_count": 2,
   "metadata": {
    "collapsed": true
   },
   "outputs": [],
   "source": [
    "import torch\n",
    "from torch import nn\n",
    "from torchvision.datasets import MNIST\n",
    "from torch.utils.data import DataLoader\n",
    "from torchvision.transforms.transforms import *\n",
    "import matplotlib.pyplot as plt\n",
    "import matplotlib.image as img\n",
    "import tqdm"
   ]
  },
  {
   "cell_type": "code",
   "execution_count": 3,
   "metadata": {
    "pycharm": {
     "name": "#%%\n"
    }
   },
   "outputs": [],
   "source": [
    "# firts lest try a very simple vae\n",
    "\n",
    "class VAE(nn.Module):\n",
    "    def __init__(self, input_size, hidden_size, code_size):\n",
    "        super(VAE, self).__init__()\n",
    "        self.encoder = nn.Linear(input_size, hidden_size)\n",
    "        self.code = nn.Linear(hidden_size, code_size)\n",
    "        self.decoder = nn.Linear(code_size, hidden_size)\n",
    "        self.output = nn.Linear(hidden_size, input_size)\n",
    "\n",
    "\n",
    "    def forward(self, x):\n",
    "        x = self.encoder(x)\n",
    "        x = self.code(x)\n",
    "        x = self.decoder(x)\n",
    "        x = self.output(x)\n",
    "        return x"
   ]
  },
  {
   "cell_type": "code",
   "execution_count": 5,
   "metadata": {
    "pycharm": {
     "name": "#%%\n"
    }
   },
   "outputs": [],
   "source": [
    "device = 'cuda'\n",
    "dataset = MNIST(root='./data', download=True, transform=ToTensor())\n",
    "test_dataset = MNIST(root='./data', download=True, transform=ToTensor(), train=False)\n",
    "model = VAE(28 * 28, 128, 32).to(device)\n",
    "optimizer = torch.optim.Adam(model.parameters())"
   ]
  },
  {
   "cell_type": "code",
   "execution_count": 5,
   "metadata": {
    "pycharm": {
     "name": "#%%\n"
    }
   },
   "outputs": [
    {
     "name": "stderr",
     "output_type": "stream",
     "text": [
      "100%|████████████████████████████████████████████████████████████████████████████████████████████████████████████████████████████████████████████████████████████████| 1875/1875 [00:05<00:00, 331.44it/s]\n",
      "100%|████████████████████████████████████████████████████████████████████████████████████████████████████████████████████████████████████████████████████████████████| 1875/1875 [00:05<00:00, 339.66it/s]\n"
     ]
    }
   ],
   "source": [
    "def epoch(model, dataset):\n",
    "    dataloader = DataLoader(dataset, batch_size=32)\n",
    "    loss_fn = torch.nn.MSELoss()\n",
    "    for image, digit in tqdm.tqdm(dataloader):\n",
    "        optimizer.zero_grad()\n",
    "        image = image.to(device)\n",
    "        image = torch.flatten(image, -2)\n",
    "        reconstructed = model(image)\n",
    "        loss = loss_fn(reconstructed, image)\n",
    "        loss.backward()\n",
    "        optimizer.step()\n",
    "for i in range(2):\n",
    "    epoch(model,dataset)"
   ]
  },
  {
   "cell_type": "code",
   "execution_count": 6,
   "metadata": {
    "pycharm": {
     "name": "#%%\n"
    }
   },
   "outputs": [
    {
     "data": {
      "image/png": "[encoded data removed]",
      "text/plain": [
       "<Figure size 432x288 with 1 Axes>"
      ]
     },
     "metadata": {
      "needs_background": "light"
     },
     "output_type": "display_data"
    }
   ],
   "source": [
    "data = dataset[20][0].unsqueeze(0).to(device)\n",
    "plt.imshow(data.squeeze(0).squeeze(0).cpu().numpy())\n",
    "reconstructed = model(torch.flatten(data, -2))"
   ]
  },
  {
   "cell_type": "code",
   "execution_count": 7,
   "metadata": {
    "pycharm": {
     "name": "#%%\n"
    }
   },
   "outputs": [
    {
     "data": {
      "text/plain": [
       "<matplotlib.image.AxesImage at 0x7f6da9f2edf0>"
      ]
     },
     "execution_count": 7,
     "metadata": {},
     "output_type": "execute_result"
    },
    {
     "data": {
      "image/png": "[encoded data removed]",
      "text/plain": [
       "<Figure size 432x288 with 1 Axes>"
      ]
     },
     "metadata": {
      "needs_background": "light"
     },
     "output_type": "display_data"
    }
   ],
   "source": [
    "plt.imshow(reconstructed.view(1, -1, 28, 28).squeeze(0).squeeze(0).detach().cpu().numpy())"
   ]
  },
  {
   "cell_type": "code",
   "execution_count": 7,
   "metadata": {
    "pycharm": {
     "name": "#%%\n"
    }
   },
   "outputs": [
    {
     "data": {
      "text/plain": [
       "<matplotlib.image.AxesImage at 0x7efcb7ba3c10>"
      ]
     },
     "execution_count": 7,
     "metadata": {},
     "output_type": "execute_result"
    },
    {
     "data": {
      "image/png": "[encoded data removed]",
      "text/plain": [
       "<Figure size 432x288 with 1 Axes>"
      ]
     },
     "metadata": {
      "needs_background": "light"
     },
     "output_type": "display_data"
    }
   ],
   "source": [
    "random_code = torch.rand(32).to(device)\n",
    "\n",
    "reconstructed = model.decoder(random_code)\n",
    "reconstructed = model.output(reconstructed)\n",
    "plt.imshow(reconstructed.view(-1, 28, 28).squeeze(0).detach().cpu().numpy())"
   ]
  },
  {
   "cell_type": "code",
   "execution_count": 12,
   "metadata": {
    "pycharm": {
     "name": "#%%\n"
    }
   },
   "outputs": [],
   "source": [
    "#from torch.distributions.normal import Normal\n",
    "from torch.distributions.kl import Normal\n",
    "from torch.distributions import kl_divergence\n",
    "\n",
    "# now a convolutional vae\n",
    "\n",
    "\n",
    "def weights_init(m):\n",
    "    classname = m.__class__.__name__\n",
    "    if classname.find('Conv') != -1:\n",
    "        try:\n",
    "            nn.init.xavier_uniform_(m.weight.data)\n",
    "            m.bias.data.fill_(0)\n",
    "        except AttributeError:\n",
    "            print(\"Skipping initialization of \", classname)\n",
    "\n",
    "class CVAE(nn.Module):\n",
    "    def __init__(self, input_dim, dim, z_dim):\n",
    "        super().__init__()\n",
    "        self.encoder = nn.Sequential(\n",
    "            nn.Conv2d(input_dim, dim, 4, 2, 1),\n",
    "            nn.BatchNorm2d(dim),\n",
    "            nn.ReLU(True),\n",
    "            nn.Conv2d(dim, dim, 4, 2, 1),\n",
    "            nn.BatchNorm2d(dim),\n",
    "            nn.ReLU(True),\n",
    "            nn.Conv2d(dim, dim, 5, 1, 0),\n",
    "            nn.BatchNorm2d(dim),\n",
    "            nn.ReLU(True),\n",
    "            nn.Conv2d(dim, z_dim * 2, 3, 1, 0),\n",
    "            nn.BatchNorm2d(z_dim * 2)\n",
    "        )\n",
    "\n",
    "        self.decoder = nn.Sequential(\n",
    "            nn.ConvTranspose2d(z_dim, dim, 3, 1, 0),\n",
    "            nn.BatchNorm2d(dim),\n",
    "            nn.ReLU(True),\n",
    "            nn.ConvTranspose2d(dim, dim, 5, 1, 0),\n",
    "            nn.BatchNorm2d(dim),\n",
    "            nn.ReLU(True),\n",
    "            nn.ConvTranspose2d(dim, dim, 4, 2, 1),\n",
    "            nn.BatchNorm2d(dim),\n",
    "            nn.ReLU(True),\n",
    "            nn.ConvTranspose2d(dim, input_dim, 4, 2, 1),\n",
    "            nn.Tanh()\n",
    "        )\n",
    "\n",
    "        self.apply(weights_init)\n",
    "\n",
    "    def forward(self, x):\n",
    "        mu, logvar = self.encoder(x).chunk(2, dim=1)\n",
    "\n",
    "        # repamatrization trick\n",
    "        q_z_x = Normal(mu, logvar.mul(.5).exp())\n",
    "        p_z = Normal(torch.zeros_like(mu), torch.ones_like(logvar))\n",
    "        kl_div = kl_divergence(q_z_x, p_z).sum(1).mean()\n",
    "\n",
    "        x_tilde = self.decoder(q_z_x.rsample())\n",
    "        return x_tilde, kl_div"
   ]
  },
  {
   "cell_type": "code",
   "execution_count": 15,
   "metadata": {
    "pycharm": {
     "name": "#%%\n"
    }
   },
   "outputs": [],
   "source": [
    "cvae = CVAE(input_dim=1, dim=256, z_dim=128).to(device)\n",
    "opt = torch.optim.Adam(cvae.parameters(), lr=1e-3, amsgrad=True)"
   ]
  },
  {
   "cell_type": "code",
   "execution_count": 17,
   "metadata": {
    "pycharm": {
     "name": "#%%\n"
    }
   },
   "outputs": [
    {
     "name": "stderr",
     "output_type": "stream",
     "text": [
      "tensor(0.0147, device='cuda:0', grad_fn=<MseLossBackward0>): 100%|███████████████████████████████████████████████████████████████████████████████████████████████████| 1875/1875 [00:16<00:00, 117.04it/s]\n",
      "tensor(0.0106, device='cuda:0', grad_fn=<MseLossBackward0>): 100%|███████████████████████████████████████████████████████████████████████████████████████████████████| 1875/1875 [00:16<00:00, 116.92it/s]\n",
      "tensor(0.0093, device='cuda:0', grad_fn=<MseLossBackward0>): 100%|███████████████████████████████████████████████████████████████████████████████████████████████████| 1875/1875 [00:17<00:00, 107.92it/s]\n",
      "tensor(0.0068, device='cuda:0', grad_fn=<MseLossBackward0>): 100%|███████████████████████████████████████████████████████████████████████████████████████████████████| 1875/1875 [00:17<00:00, 108.66it/s]\n",
      "tensor(0.0056, device='cuda:0', grad_fn=<MseLossBackward0>): 100%|███████████████████████████████████████████████████████████████████████████████████████████████████| 1875/1875 [00:15<00:00, 117.75it/s]\n"
     ]
    }
   ],
   "source": [
    "def epoch(model, dataset, optimizer):\n",
    "    dataloader = DataLoader(dataset, batch_size=32)\n",
    "    loss_fn = torch.nn.MSELoss()\n",
    "    pbar = tqdm.tqdm(dataloader)\n",
    "    for image, digit in pbar:\n",
    "        optimizer.zero_grad()\n",
    "        image = image.to(device)\n",
    "        reconstructed = model(image)[0]\n",
    "        loss = loss_fn(reconstructed, image)\n",
    "        pbar.set_description(str(loss))\n",
    "        loss.backward()\n",
    "        optimizer.step()\n",
    "for i in range(5):\n",
    "    epoch(cvae,dataset, opt)"
   ]
  },
  {
   "cell_type": "code",
   "execution_count": 18,
   "metadata": {
    "pycharm": {
     "name": "#%%\n"
    }
   },
   "outputs": [
    {
     "data": {
      "text/plain": [
       "<matplotlib.image.AxesImage at 0x7f6dacce4eb0>"
      ]
     },
     "execution_count": 18,
     "metadata": {},
     "output_type": "execute_result"
    },
    {
     "data": {
      "image/png": "[encoded data removed]",
      "text/plain": [
       "<Figure size 432x288 with 1 Axes>"
      ]
     },
     "metadata": {
      "needs_background": "light"
     },
     "output_type": "display_data"
    }
   ],
   "source": [
    "cvae.eval()\n",
    "data = dataset[20][0].unsqueeze(0).to(device)\n",
    "plt.imshow(data.squeeze(0).squeeze(0).cpu().numpy())\n",
    "reconstructed = cvae(data)[0]\n",
    "plt.imshow(reconstructed.view(1, -1, 28, 28).squeeze(0).squeeze(0).detach().cpu().numpy())"
   ]
  },
  {
   "cell_type": "code",
   "execution_count": 19,
   "metadata": {
    "pycharm": {
     "name": "#%%\n"
    }
   },
   "outputs": [
    {
     "data": {
      "text/plain": [
       "<matplotlib.image.AxesImage at 0x7f6da9dd22b0>"
      ]
     },
     "execution_count": 19,
     "metadata": {},
     "output_type": "execute_result"
    },
    {
     "data": {
      "image/png": "[encoded data removed]",
      "text/plain": [
       "<Figure size 432x288 with 1 Axes>"
      ]
     },
     "metadata": {
      "needs_background": "light"
     },
     "output_type": "display_data"
    }
   ],
   "source": [
    "mu, logvar = cvae.encoder(data).chunk(2, dim=1)\n",
    "q_z_x = Normal(torch.rand_like(mu), torch.rand_like(logvar).mul(.5).exp())\n",
    "x_tilde = cvae.decoder(q_z_x.rsample())\n",
    "plt.imshow(x_tilde.view(1, -1, 28, 28).squeeze(0).squeeze(0).detach().cpu().numpy())"
   ]
  },
  {
   "cell_type": "code",
   "execution_count": 6,
   "metadata": {
    "pycharm": {
     "name": "#%%\n"
    }
   },
   "outputs": [],
   "source": [
    "#VQVAE\n",
    "from vector_quantize_pytorch import VectorQuantize\n",
    "from torch.nn.functional import mse_loss\n",
    "\n",
    "class ResBlock(nn.Module):\n",
    "    def __init__(self, in_dim, hidden_dim):\n",
    "        super().__init__()\n",
    "        self.block = nn.Sequential(\n",
    "            nn.ReLU(True),\n",
    "            nn.Conv2d(in_dim, hidden_dim, 3, 1, 1),\n",
    "            nn.BatchNorm2d(hidden_dim),\n",
    "            nn.ReLU(True),\n",
    "            nn.Conv2d(hidden_dim, in_dim, 1),\n",
    "            nn.BatchNorm2d(in_dim)\n",
    "        )\n",
    "\n",
    "    def forward(self, x):\n",
    "        return x + self.block(x)\n",
    "\n",
    "class Encoder(nn.Module):\n",
    "    def __init__(self, in_channels, dim_hidden, num_residual_layer, dim_residual_layer):\n",
    "        super(Encoder, self).__init__()\n",
    "\n",
    "        self.conv_stack = nn.Sequential(\n",
    "            nn.ReLU(True),\n",
    "            nn.Conv2d(in_channels, dim_hidden // 2, padding=1, kernel_size=3),\n",
    "            nn.ReLU(True),\n",
    "            nn.Conv2d(dim_hidden // 2, dim_hidden, padding=1, kernel_size=3),\n",
    "            nn.ReLU(True),\n",
    "            nn.Conv2d(dim_hidden, dim_hidden, padding=1, kernel_size=1),\n",
    "        )\n",
    "\n",
    "        self.residual_stack = nn.Sequential(*[ResBlock(dim_hidden, dim_residual_layer) for _ in range(num_residual_layer)])\n",
    "\n",
    "    def forward(self, x):\n",
    "        x = self.conv_stack(x)\n",
    "        return self.residual_stack(x)\n",
    "\n",
    "class Decoder(nn.Module):\n",
    "    def __init__(self, in_channels, dim_hidden, num_residual_layer, dim_residual_layer):\n",
    "        super(Decoder, self).__init__()\n",
    "\n",
    "        self.deconv_stack = nn.Sequential(\n",
    "            nn.ConvTranspose2d(dim_hidden, dim_hidden, padding=1, kernel_size=1),\n",
    "            nn.Sequential(*[ResBlock(dim_hidden, dim_residual_layer) for _ in range(num_residual_layer)]),\n",
    "            nn.ConvTranspose2d(dim_hidden, dim_hidden //2, padding=1, kernel_size=3),\n",
    "            nn.ReLU(True),\n",
    "            nn.ConvTranspose2d(dim_hidden //2 , in_channels, padding=1, kernel_size=3),\n",
    "            nn.ReLU(True)\n",
    "        )\n",
    "\n",
    "    def forward(self, x):\n",
    "        x = self.deconv_stack(x)\n",
    "        return x\n",
    "\n",
    "class VQVAE(nn.Module):\n",
    "    def __init__(self, input_dim, dim, z_dim, num_residual_layer, dim_residual_layer):\n",
    "        super().__init__()\n",
    "\n",
    "        self.encoder = Encoder(input_dim, dim, num_residual_layer, dim_residual_layer)\n",
    "        self.vq = VectorQuantize(\n",
    "            dim = dim,\n",
    "            codebook_size = z_dim,     # codebook size\n",
    "            decay = 0.8,             # the exponential moving average decay, lower means the dictionary will change faster\n",
    "            commitment = 1.          # the weight on the commitment loss\n",
    "        )\n",
    "        self.decoder = Decoder(input_dim, dim, num_residual_layer, dim_residual_layer)\n",
    "\n",
    "    def encode(self, x):\n",
    "        z_e_x = self.encoder(x)\n",
    "        latents, indices, _ = self.vq(z_e_x.permute(0, 2, 3, 1))\n",
    "        return latents, indices\n",
    "\n",
    "    def decode(self, latents):\n",
    "        z_q_x = latents.permute(0, 3, 1, 2)\n",
    "        x_tilde = self.decoder(z_q_x)\n",
    "        return x_tilde\n",
    "\n",
    "    def forward(self, x):\n",
    "        encoded_x = self.encoder(x).permute(0, 2, 3, 1)\n",
    "        quantized_x, indices, commit_loss = self.vq(encoded_x)\n",
    "        x_tilde = self.decoder(quantized_x.permute(0, 3, 1, 2))\n",
    "        return x_tilde, commit_loss, mse_loss(encoded_x.detach(), quantized_x)"
   ]
  },
  {
   "cell_type": "code",
   "execution_count": null,
   "metadata": {
    "pycharm": {
     "is_executing": true,
     "name": "#%%\n"
    }
   },
   "outputs": [
    {
     "name": "stderr",
     "output_type": "stream",
     "text": [
      "0.7287:  80%|▊| 1503/1875 [01:11<00:18"
     ]
    }
   ],
   "source": [
    "from torchvision import datasets\n",
    "from PIL import Image\n",
    "\n",
    "vqvae = VQVAE(input_dim=1, dim=256, z_dim=512, num_residual_layer=4, dim_residual_layer=128).to(device)\n",
    "opt = torch.optim.Adam(vqvae.parameters(), lr=1e-3, amsgrad=True)\n",
    "dataloader = DataLoader(dataset, batch_size=32)\n",
    "n_epoch = 5\n",
    "scheduler = torch.optim.lr_scheduler.OneCycleLR(opt, max_lr=1e-2, total_steps=len(dataloader) * n_epoch)\n",
    "vqvae.train()\n",
    "#dataset = datasets.DatasetFolder(extensions=('png', 'jpg'), loader=Image.open, root='/home/lleonard/Documents/datasets/img_align_celeba/', transform=Compose([Resize((128, 128)), ToTensor()]))\n",
    "\n",
    "def epoch(model, dataloader, optimizer):\n",
    "    loss_fn = torch.nn.MSELoss()\n",
    "    pbar = tqdm.tqdm(dataloader)\n",
    "\n",
    "    for image, digit in pbar:\n",
    "        optimizer.zero_grad()\n",
    "        image = image.to(device)\n",
    "        reconstructed, commit_loss, vq_loss = model(image)\n",
    "        loss = loss_fn(reconstructed, image) + commit_loss + vq_loss\n",
    "        pbar.set_description(str(round(loss.detach().item(), 4)))\n",
    "        loss.backward()\n",
    "        optimizer.step()\n",
    "        scheduler.step()\n",
    "for i in range(n_epoch):\n",
    "    epoch(vqvae,dataloader, opt)"
   ]
  },
  {
   "cell_type": "code",
   "execution_count": 30,
   "metadata": {
    "pycharm": {
     "name": "#%%\n"
    }
   },
   "outputs": [
    {
     "data": {
      "text/plain": [
       "<matplotlib.image.AxesImage at 0x7f6da6d8ce80>"
      ]
     },
     "execution_count": 30,
     "metadata": {},
     "output_type": "execute_result"
    },
    {
     "data": {
      "image/png": "[encoded data removed]",
      "text/plain": [
       "<Figure size 432x288 with 1 Axes>"
      ]
     },
     "metadata": {
      "needs_background": "light"
     },
     "output_type": "display_data"
    }
   ],
   "source": [
    "vqvae.eval()\n",
    "data = dataset[20][0].unsqueeze(0).to(device)\n",
    "#ToPILImage()(data.squeeze(0).squeeze(0).detach().cpu().numpy()).convert('RGB')\n",
    "reconstructed = vqvae(data)[0]\n",
    "reconstructed = reconstructed.detach().squeeze(0).squeeze(0)\n",
    "plt.imshow(reconstructed.cpu().numpy())"
   ]
  },
  {
   "cell_type": "code",
   "execution_count": 31,
   "metadata": {
    "pycharm": {
     "name": "#%%\n"
    }
   },
   "outputs": [
    {
     "data": {
      "text/plain": [
       "torch.Size([1, 7, 7, 256])"
      ]
     },
     "execution_count": 31,
     "metadata": {},
     "output_type": "execute_result"
    }
   ],
   "source": [
    "latents = vqvae.encode(data)[0]\n",
    "latents.shape"
   ]
  },
  {
   "cell_type": "code",
   "execution_count": 32,
   "metadata": {
    "pycharm": {
     "name": "#%%\n"
    }
   },
   "outputs": [
    {
     "data": {
      "text/plain": [
       "<matplotlib.image.AxesImage at 0x7f6da6d6efd0>"
      ]
     },
     "execution_count": 32,
     "metadata": {},
     "output_type": "execute_result"
    },
    {
     "data": {
      "image/png": "[encoded data removed]",
      "text/plain": [
       "<Figure size 432x288 with 1 Axes>"
      ]
     },
     "metadata": {
      "needs_background": "light"
     },
     "output_type": "display_data"
    }
   ],
   "source": [
    "plt.imshow(vqvae.encode(data)[1].squeeze(0).detach().cpu().numpy())"
   ]
  },
  {
   "cell_type": "code",
   "execution_count": 37,
   "metadata": {
    "pycharm": {
     "name": "#%%\n"
    }
   },
   "outputs": [
    {
     "data": {
      "text/plain": [
       "<matplotlib.image.AxesImage at 0x7f6da6b6e700>"
      ]
     },
     "execution_count": 37,
     "metadata": {},
     "output_type": "execute_result"
    },
    {
     "data": {
      "image/png": "[encoded data removed]",
      "text/plain": [
       "<Figure size 432x288 with 1 Axes>"
      ]
     },
     "metadata": {
      "needs_background": "light"
     },
     "output_type": "display_data"
    }
   ],
   "source": [
    "latents[0, 3, 5] = vqvae.vq._codebook.embed[0]\n",
    "latents[0, 3, 6] = vqvae.vq._codebook.embed[0]\n",
    "plt.imshow(vqvae.decode(latents).squeeze(0).squeeze(0).detach().cpu().numpy())"
   ]
  },
  {
   "cell_type": "code",
   "execution_count": 213,
   "metadata": {
    "pycharm": {
     "name": "#%%\n"
    }
   },
   "outputs": [
    {
     "data": {
      "text/plain": [
       "<matplotlib.image.AxesImage at 0x7efcb640bc10>"
      ]
     },
     "execution_count": 213,
     "metadata": {},
     "output_type": "execute_result"
    },
    {
     "data": {
      "image/png": "[encoded data removed]",
      "text/plain": [
       "<Figure size 432x288 with 1 Axes>"
      ]
     },
     "metadata": {
      "needs_background": "light"
     },
     "output_type": "display_data"
    }
   ],
   "source": [
    "from torch.nn.functional import embedding\n",
    "\n",
    "\n",
    "random_latents = embedding(torch.randint(0, 512, (7, 7)).to(device), vqvae.vq._codebook.embed)\n",
    "plt.imshow(vqvae.decode(random_latents.unsqueeze(0)).squeeze(0).squeeze(0).detach().cpu().numpy())"
   ]
  }
 ],
 "metadata": {
  "kernelspec": {
   "display_name": "Python 3 (ipykernel)",
   "language": "python",
   "name": "python3"
  },
  "language_info": {
   "codemirror_mode": {
    "name": "ipython",
    "version": 2
   },
   "file_extension": ".py",
   "mimetype": "text/x-python",
   "name": "python",
   "nbconvert_exporter": "python",
   "pygments_lexer": "ipython2",
   "version": "2.7.6"
  }
 },
 "nbformat": 4,
 "nbformat_minor": 1
}
